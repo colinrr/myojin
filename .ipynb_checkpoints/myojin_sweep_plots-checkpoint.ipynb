{
 "cells": [
  {
   "cell_type": "markdown",
   "id": "5e08d0f1-8272-4d48-835b-4d8588d1fd85",
   "metadata": {
    "editable": true,
    "slideshow": {
     "slide_type": ""
    },
    "tags": []
   },
   "source": [
    "# Processing conduit model sweeps\n",
    " - Outcome codes --> explosive/effusive/intrusive transitions\n",
    " - Decompression Rates, Bubble Number Densities, Porosities associated with different nucleation events\n",
    " - "
   ]
  },
  {
   "cell_type": "markdown",
   "id": "fd4ffcfd-eed0-40bb-b23d-3931bee7f6ad",
   "metadata": {},
   "source": [
    "## Imports and User input"
   ]
  },
  {
   "cell_type": "code",
   "execution_count": 1,
   "id": "85fd12b8-872f-4f1d-83b9-b13e4ede8970",
   "metadata": {
    "editable": true,
    "slideshow": {
     "slide_type": ""
    },
    "tags": []
   },
   "outputs": [],
   "source": [
    "from os.path import join\n",
    "\n",
    "import numpy as np\n",
    "import pandas as pd\n",
    "from itertools import product, compress\n",
    "import matplotlib.pyplot as plt\n",
    "# import matplotlib.contour as mcon\n",
    "# import matplotlib.colormaps as mpc\n",
    "\n",
    "import myojin_python.mat_tools as mat\n",
    "import myojin_python.process_conduit_outcomes as po\n",
    "from myojin_python.config import DATA_DIR"
   ]
  },
  {
   "cell_type": "code",
   "execution_count": 2,
   "id": "2e7d5b25-aa0b-43a2-b4db-15e960eb6140",
   "metadata": {
    "editable": true,
    "slideshow": {
     "slide_type": ""
    },
    "tags": []
   },
   "outputs": [],
   "source": [
    "# PARAMETER INPUT\n",
    "\n",
    "dataDir   = DATA_DIR / 'refinedSweep/'\n",
    "codesFile = 'outcomeCodeSummary.mat'\n",
    "\n",
    "# % Test file\n",
    "# % foi = '2024-04-26_myojin_Q8_Z0900_Zw500_357n_dP_21_n0_excess_17.mat';\n",
    "foi = 'myojin_Q8_Z0900_Zw500';\n",
    "\n",
    "max_P = 2e7 # Max overpressure\n",
    "sigma = 2.0 # Gaussian filter size (pix)\n",
    "\n",
    "# --> Sweep sets for which to make regime plots\n",
    "logQ = [8., 9.]\n",
    "Ztot = [1400.,2200.,6000.]\n",
    "\n",
    "# Plot boundary contours only for explosive and intrusive PLOT codes\n",
    "# keep_outcomes = ['invalidIntrusive','validFragPressBalance','validExplosive']\n",
    "# outcome_cmaps = ['Oranges','Blues','Purples']\n",
    "# keep_outcomes = ['invalidIntrusive','validExplosive']\n",
    "keep_outcomes = ['invalidIntrusive','validFragPressBalance']\n",
    "outcome_cmaps = ['Oranges','Blues']\n",
    "# keep_codes = {\n",
    "#     'intrusive': 0.,\n",
    "#     'press_bal': 2.,\n",
    "#     'explosive': 3.} \n",
    "\n",
    "\n",
    "# Pressure scale multiplier for plotting\n",
    "Pscale = 1e-6\n",
    "\n",
    "## ------------------------------------------------------------------------##"
   ]
  },
  {
   "cell_type": "code",
   "execution_count": 3,
   "id": "1120714e-46a4-470f-8fda-38b2fad6a087",
   "metadata": {
    "editable": true,
    "slideshow": {
     "slide_type": ""
    },
    "tags": []
   },
   "outputs": [],
   "source": [
    "\n",
    "# --------  PULL DATA --------\n",
    "matfile = join(dataDir,codesFile)\n",
    "\n",
    "all_outcome_codes = mat.matfile_struct_to_dict(matfile, 'allOutcomeCodes')\n",
    "simple_plot_codes = mat.matfile_struct_to_dict(matfile, 'simplePlotIndex')\n",
    "\n",
    "n0 = all_outcome_codes['n0_excess']\n",
    "P = all_outcome_codes['dP']\n",
    "\n",
    "# --> Pull test codes\n",
    "outcome_codes = all_outcome_codes[foi]\n",
    "plot_codes = simple_plot_codes[foi]"
   ]
  },
  {
   "cell_type": "markdown",
   "id": "9168ed32-9084-44f1-b26e-715759c3c8d0",
   "metadata": {},
   "source": [
    "## Parse names and contours into a dataframe"
   ]
  },
  {
   "cell_type": "code",
   "execution_count": 4,
   "id": "8f451cdb-3223-4189-92cb-104ae8dd08fb",
   "metadata": {
    "editable": true,
    "slideshow": {
     "slide_type": ""
    },
    "tags": []
   },
   "outputs": [
    {
     "name": "stdout",
     "output_type": "stream",
     "text": [
      "{np.float64(0.0), np.float64(1.0), np.float64(2.0)}\n"
     ]
    },
    {
     "ename": "NameError",
     "evalue": "name 'faafo' is not defined",
     "output_type": "error",
     "traceback": [
      "\u001b[0;31m---------------------------------------------------------------------------\u001b[0m",
      "\u001b[0;31mNameError\u001b[0m                                 Traceback (most recent call last)",
      "Cell \u001b[0;32mIn[4], line 82\u001b[0m\n\u001b[1;32m     79\u001b[0m code_set \u001b[38;5;241m=\u001b[39m \u001b[38;5;28mset\u001b[39m(code_set)\n\u001b[1;32m     81\u001b[0m \u001b[38;5;28mprint\u001b[39m(code_set)\n\u001b[0;32m---> 82\u001b[0m \u001b[43mfaafo\u001b[49m\n",
      "\u001b[0;31mNameError\u001b[0m: name 'faafo' is not defined"
     ]
    }
   ],
   "source": [
    "\n",
    "# ------- PARSE SWEEP NAMES --------\n",
    "#  - into a dataframe for processing/plotting control\n",
    "sweep_names = [key for key in all_outcome_codes.keys() if 'myojin' in key]\n",
    "\n",
    "# Initialize\n",
    "sweeps = {'logQ': np.zeros(len(sweep_names)),\n",
    "              'Z0'  : np.zeros(len(sweep_names)),\n",
    "              'Zw'  : np.zeros(len(sweep_names)),\n",
    "             }\n",
    "\n",
    "for ii,foi in enumerate(sweep_names):\n",
    "    chunks = foi.split('_')\n",
    "    for chunk in chunks:\n",
    "        if 'Q' in chunk:\n",
    "            sweeps['logQ'][ii] = float(chunk.strip('Q'))\n",
    "        elif 'Z0' in chunk:\n",
    "            sweeps['Z0'][ii] = float(chunk.replace('Z0',''))\n",
    "        elif 'Zw' in chunk:\n",
    "            sweeps['Zw'][ii] = float(chunk.strip('Zw'))\n",
    "\n",
    "sweeps['Ztot'] = sweeps['Zw'] + sweeps['Z0']\n",
    "sweeps['name'] = sweep_names\n",
    "\n",
    "sweeps = pd.DataFrame(data = sweeps).sort_values(['logQ','Ztot','Zw'],ignore_index=True)\n",
    "# print(sweeps)\n",
    "\n",
    "# -------- Produce regime contours for each sweep into the dataframe  -----------\n",
    "\n",
    "# Get simplified outcome code table\n",
    "ctable = po.get_outcome_code_table(display=False)\n",
    "keep_codes = ctable.loc[keep_outcomes]['SimplifiedCode']\n",
    "\n",
    "\n",
    "# Run list\n",
    "# all_contours = {name: [] for name in keep_outcomes}\n",
    "empty_sweeps = {name: None for name in sweeps['name']}\n",
    "all_contours_dict = {name: empty_sweeps.copy() for name in keep_outcomes}\n",
    "code_set = []\n",
    "for sweep in sweeps['name']:\n",
    "    outcome_codes, plot_codes, P = po.process_outcome_codes(\n",
    "        all_outcome_codes[sweep], \n",
    "        simple_plot_codes[sweep], \n",
    "        all_outcome_codes['dP'], \n",
    "        max_P=max_P)\n",
    "\n",
    "    sweep_contours, contours_xy, unique_codes = po.get_label_contours(\n",
    "        plot_codes, all_outcome_codes['n0_excess'],\n",
    "        P,\n",
    "        sigma=sigma)\n",
    "\n",
    "    # if sweep=='myojin_Q9_Z05500_Zw500':\n",
    "    #     print(sweep_contours)\n",
    "    #     faafo\n",
    "    #     print('wait!')\n",
    "    # Filter for kept contour codes\n",
    "    # sweep_contours = {name: contour for name,contour in sweep_contours.items() if int(name) in keep_codes.values}\n",
    "\n",
    "    \n",
    "    # Get all unique plot codes (post-cleaning for contour plots)\n",
    "    code_set += list(unique_codes)\n",
    "    for name,code in zip(keep_outcomes,keep_codes):\n",
    "        if str(int(code)) in sweep_contours.keys():\n",
    "            all_contours_dict[name][sweep] = sweep_contours[str(int(code))]\n",
    "        # else:\n",
    "        #     all_contours_dict[name][sweep] = None\n",
    "    \n",
    "    # for name,code in zip(keep_outcomes,keep_codes):\n",
    "    #     cont = list(compress(contours_xy,np.isin(unique_codes,code)))\n",
    "    #     if cont: # Simplify if result was not empty\n",
    "    #         if sweep=='myojin_Q9_Z01100_Zw300':\n",
    "    #             print(len(cont))\n",
    "    #         cont = cont[0]\n",
    "    #     else:\n",
    "    #         cont = None\n",
    "    #     contours[name].append(cont)\n",
    "\n",
    "# sweeps = sweeps.join(pd.DataFrame(all_contours_dict))\n",
    "sweeps = sweeps.merge(pd.DataFrame(all_contours_dict),left_on='name',right_index=True)\n",
    "code_set = set(code_set)\n",
    "\n",
    "print(code_set)"
   ]
  },
  {
   "cell_type": "markdown",
   "id": "31bbb79d-9e9b-4ec7-bc9d-081e9bfa23c5",
   "metadata": {
    "editable": true,
    "slideshow": {
     "slide_type": ""
    },
    "tags": []
   },
   "source": [
    "## QC plots for each sweep"
   ]
  },
  {
   "cell_type": "code",
   "execution_count": null,
   "id": "304ee704-b755-4d2f-9c3e-18fa401b3431",
   "metadata": {
    "editable": true,
    "slideshow": {
     "slide_type": ""
    },
    "tags": []
   },
   "outputs": [],
   "source": [
    "# QC plots for each sweep\n",
    "fs = 7\n",
    "\n",
    "levels = sorted(np.array(list(set(sweeps['Zw']))))\n",
    "nc = len(levels)\n",
    "nr = int(sweeps.shape[0]/nc)\n",
    "\n",
    "# Build colormaps for each contour regime of interest\n",
    "dl = np.diff(levels)[0]\n",
    "cmaps={}\n",
    "norms={}\n",
    "for name,cmap in zip(keep_outcomes,outcome_cmaps):\n",
    "    cmaps[cmap] = plt.get_cmap(cmap, lut=len(levels)+1)\n",
    "    norms[cmap] = plt.Normalize(vmin=min(levels)-dl, vmax=max(levels))\n",
    "\n",
    "\n",
    "fig,axes = plt.subplots(nr,nc,figsize=[10, 9],sharex=True,sharey=True)\n",
    "mesh_cmap = plt.get_cmap('Greys',lut=len(code_set))\n",
    "for ii,(ax,sweep,Zw) in enumerate(zip(axes.flatten(),sweeps['name'],sweeps['Zw'])):\n",
    "    _, plot_codes, P = po.process_outcome_codes(\n",
    "    all_outcome_codes[sweep], \n",
    "    simple_plot_codes[sweep], \n",
    "    all_outcome_codes['dP'], \n",
    "    max_P=max_P)\n",
    "    \n",
    "    code_img = simple_plot_codes[sweep]\n",
    "    CS = ax.pcolormesh(n0,P*Pscale,plot_codes, shading='auto',cmap=mesh_cmap,vmin=min(code_set),vmax=max(code_set))\n",
    "    # plt.colorbar(CS)\n",
    "    ax.set_title(sweep.replace('myojin',''),fontsize=fs)\n",
    "    \n",
    "    for name,code,cmap,norm in zip(keep_outcomes,keep_codes,cmaps,norms):\n",
    "        contour = contours[name][ii]\n",
    "        # contour = sweeps.loc[sweeps['name']==sweep,name]\n",
    "        if contour is not None:\n",
    "            # contour = contour.to_numpy()[0]\n",
    "            color = cmaps[cmap](norms[norm](Zw))\n",
    "            # print('wtaf',sweep)\n",
    "            ax.plot(contour[:,0], contour[:,1]*Pscale, color=color)\n",
    "        # else:\n",
    "        #     print('wtaf')\n",
    "\n",
    "\n",
    "    # code_img = all_outcome_codes[sweep]\n",
    "# CS = plt.pcolormesh(n0,P*Pscale,plot_codes, shading='auto', edgecolor = 'k', linewidth=0.1,cmap=mesh_cmap)\n",
    "\n",
    "# faafo"
   ]
  },
  {
   "cell_type": "code",
   "execution_count": null,
   "id": "9f5e3d55-9d34-4ce4-b2c6-4df019c8e562",
   "metadata": {
    "editable": true,
    "slideshow": {
     "slide_type": ""
    },
    "tags": []
   },
   "outputs": [],
   "source": [
    "# Get levels and colormaps for the regime boundary lines\n",
    "levels = sorted(np.array(list(set(sweeps['Zw']))))\n",
    "dl = np.diff(levels)[0]\n",
    "cmaps={}\n",
    "norms={}\n",
    "for name,cmap in zip(keep_outcomes,outcome_cmaps):\n",
    "    cmaps[cmap] = plt.get_cmap(cmap, lut=len(levels)+1)\n",
    "    norms[cmap] = plt.Normalize(vmin=min(levels)-dl, vmax=max(levels))\n",
    "\n",
    "nr = len(Ztot)\n",
    "nc = len(logQ)\n",
    "\n",
    "fig,axes = plt.subplots(nr,nc,figsize=[7, 9],sharex=True,sharey=True)\n",
    "\n",
    "# Iterate over different combinations of logQ, Ztotal to produce the various plots\n",
    "for ax,(q,zt) in zip(axes.transpose().flatten(), product(logQ,Ztot)):\n",
    "    this_set = sweeps[(sweeps['Ztot']==zt) & (sweeps['logQ']==q)]\n",
    "\n",
    "    # Make contour color map based on length of this_set\n",
    "\n",
    "    # # Run list\n",
    "    # contours = {name: [] for name in keep_outcomes}\n",
    "    # csets    = {name: [] for name in keep_outcomes}\n",
    "    # # contours = []\n",
    "    # # contours_int = []\n",
    "    # cset = {}\n",
    "    # for sweep in this_set['name']:\n",
    "    #     outcome_codes, plot_codes, P = po.process_outcome_codes(\n",
    "    #         all_outcome_codes[sweep], \n",
    "    #         simple_plot_codes[sweep], \n",
    "    #         all_outcome_codes['dP'], \n",
    "    #         max_P=max_P)\n",
    "\n",
    "    #     _, contours_xy, unique_codes = po.get_label_contours(\n",
    "    #         plot_codes, all_outcome_codes['n0_excess'],\n",
    "    #         P,\n",
    "    #         sigma=sigma)\n",
    "\n",
    "        # keepers = np.isin(unique_codes, keep_codes)\n",
    "    for name,code,cmap,norm in zip(keep_outcomes,keep_codes,cmaps,norms):\n",
    "            # cont = list(compress(contours_xy,np.isin(unique_codes,code)))\n",
    "            # if cont: # Simplify if result was not empty\n",
    "            #     cont = cont[0]\n",
    "            # else:\n",
    "            #     cont = None\n",
    "            # contours[name].append(cont)\n",
    "\n",
    "            \n",
    "\n",
    "        for level,contour in zip(levels,contours[name]):\n",
    "            if contour is not None:\n",
    "                color = cmaps[cmap](norms[norm](level))\n",
    "                ax.plot(contour[:,0], contour[:,1]/Pscale, color=color, label =f'{level:.0f}')\n",
    "    ax.set_title(f'Z_total : {zt} m, log(Q): {q}')\n",
    "fig.supxlabel('Excess exsolved gas mass fraction')\n",
    "fig.supylabel('Chamber excess pressure (MPa)')"
   ]
  },
  {
   "cell_type": "code",
   "execution_count": null,
   "id": "e687e3af-9ecc-4fb5-afe0-5477130ab44d",
   "metadata": {
    "editable": true,
    "slideshow": {
     "slide_type": ""
    },
    "tags": []
   },
   "outputs": [],
   "source": [
    "# Make a contour plot for each sweep set\n",
    "#  -> 4-6 plots total, depending on our choices of Ztot"
   ]
  },
  {
   "cell_type": "code",
   "execution_count": null,
   "id": "2a1d1355-1b83-4feb-9b18-dc9910c755d8",
   "metadata": {},
   "outputs": [],
   "source": []
  }
 ],
 "metadata": {
  "kernelspec": {
   "display_name": "Python [conda env:myojin_knoll]",
   "language": "python",
   "name": "conda-env-myojin_knoll-py"
  },
  "language_info": {
   "codemirror_mode": {
    "name": "ipython",
    "version": 3
   },
   "file_extension": ".py",
   "mimetype": "text/x-python",
   "name": "python",
   "nbconvert_exporter": "python",
   "pygments_lexer": "ipython3",
   "version": "3.11.10"
  }
 },
 "nbformat": 4,
 "nbformat_minor": 5
}

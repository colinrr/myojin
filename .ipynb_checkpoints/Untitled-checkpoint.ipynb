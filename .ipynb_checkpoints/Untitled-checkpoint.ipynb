{
 "cells": [
  {
   "cell_type": "markdown",
   "id": "5e08d0f1-8272-4d48-835b-4d8588d1fd85",
   "metadata": {},
   "source": [
    "# Processing conduit model sweeps\n",
    " - Outcome codes --> explosive/effusive/intrusive transitions\n",
    " - Decompression Rates, Bubble Number Densities, Porosities associated with different nucleation events\n",
    " - "
   ]
  },
  {
   "cell_type": "code",
   "execution_count": 29,
   "id": "85fd12b8-872f-4f1d-83b9-b13e4ede8970",
   "metadata": {},
   "outputs": [],
   "source": [
    "from os.path import join\n",
    "\n",
    "import numpy as np\n",
    "import pandas as pd\n",
    "import matplotlib.pyplot as plt\n",
    "from itertools import permutations\n",
    "\n",
    "import myojin_python.mat_tools as mat\n",
    "import myojin_python.process_conduit_outcomes as po\n",
    "from myojin_python.config import DATA_DIR"
   ]
  },
  {
   "cell_type": "code",
   "execution_count": 30,
   "id": "2e7d5b25-aa0b-43a2-b4db-15e960eb6140",
   "metadata": {},
   "outputs": [],
   "source": [
    "# PARAMETER INPUT\n",
    "\n",
    "dataDir   = DATA_DIR / 'refinedSweep/'\n",
    "codesFile = 'outcomeCodeSummary.mat'\n",
    "\n",
    "# % Test file\n",
    "# % foi = '2024-04-26_myojin_Q8_Z0900_Zw500_357n_dP_21_n0_excess_17.mat';\n",
    "foi = 'myojin_Q8_Z0900_Zw500';\n",
    "\n",
    "max_P = 2e7 # Max overpressure\n",
    "sigma = 2.0 # Gaussian filter size (pix)\n",
    "\n",
    "# --> Sweep sets for which to make regime plots\n",
    "logQ = [8., 9.]\n",
    "Ztot = [1400.,2200.,6000.]\n",
    "## ------------------------------------------------------------------------##"
   ]
  },
  {
   "cell_type": "code",
   "execution_count": 31,
   "id": "1120714e-46a4-470f-8fda-38b2fad6a087",
   "metadata": {
    "editable": true,
    "slideshow": {
     "slide_type": ""
    },
    "tags": []
   },
   "outputs": [],
   "source": [
    "\n",
    "# --------  PULL DATA --------\n",
    "matfile = join(dataDir,codesFile)\n",
    "\n",
    "all_outcome_codes = mat.matfile_struct_to_dict(matfile, 'allOutcomeCodes')\n",
    "simple_plot_codes = mat.matfile_struct_to_dict(matfile, 'simplePlotIndex')\n",
    "\n",
    "n0 = all_outcome_codes['n0_excess']\n",
    "P = all_outcome_codes['dP']\n",
    "\n",
    "# --> Pull test codes\n",
    "outcome_codes = all_outcome_codes[foi]\n",
    "plot_codes = simple_plot_codes[foi]"
   ]
  },
  {
   "cell_type": "code",
   "execution_count": 26,
   "id": "8f451cdb-3223-4189-92cb-104ae8dd08fb",
   "metadata": {
    "editable": true,
    "slideshow": {
     "slide_type": ""
    },
    "tags": []
   },
   "outputs": [],
   "source": [
    "\n",
    "# ------- PARSE SWEEP NAMES --------\n",
    "#  - into a dataframe for processing/plotting control\n",
    "sweep_names = [key for key in all_outcome_codes.keys() if 'myojin' in key]\n",
    "\n",
    "# Initialize\n",
    "sweeps = {'logQ': np.zeros(len(sweep_names)),\n",
    "              'Z0'  : np.zeros(len(sweep_names)),\n",
    "              'Zw'  : np.zeros(len(sweep_names)),\n",
    "             }\n",
    "\n",
    "for ii,foi in enumerate(sweep_names):\n",
    "    chunks = foi.split('_')\n",
    "    for chunk in chunks:\n",
    "        if 'Q' in chunk:\n",
    "            sweeps['logQ'][ii] = float(chunk.strip('Q'))\n",
    "        elif 'Z0' in chunk:\n",
    "            sweeps['Z0'][ii] = float(chunk.replace('Z0',''))\n",
    "        elif 'Zw' in chunk:\n",
    "            sweeps['Zw'][ii] = float(chunk.strip('Zw'))\n",
    "\n",
    "sweeps['Ztot'] = sweep_sets['Zw'] + sweep_sets['Z0']\n",
    "sweeps['name'] = sweep_names\n",
    "\n",
    "sweeps = pd.DataFrame(data = sweeps).sort_values(['logQ','Ztot','Zw'],ignore_index=True)\n",
    "# print(sweeps)"
   ]
  },
  {
   "cell_type": "code",
   "execution_count": 44,
   "id": "590fab16-504f-497a-b25b-19dd6e403216",
   "metadata": {
    "editable": true,
    "slideshow": {
     "slide_type": ""
    },
    "tags": []
   },
   "outputs": [
    {
     "name": "stdout",
     "output_type": "stream",
     "text": [
      "myojin_Q8_Z06000_Zw0\n",
      "myojin_Q8_Z05700_Zw300\n",
      "myojin_Q8_Z05500_Zw500\n",
      "myojin_Q8_Z05300_Zw700\n",
      "myojin_Q8_Z05100_Zw900\n",
      "myojin_Q8_Z04900_Zw1100\n",
      "myojin_Q8_Z04700_Zw1300\n",
      "myojin_Q9_Z06000_Zw0\n",
      "myojin_Q9_Z05700_Zw300\n",
      "myojin_Q9_Z05500_Zw500\n",
      "myojin_Q9_Z05300_Zw700\n",
      "myojin_Q9_Z05100_Zw900\n",
      "myojin_Q9_Z04900_Zw1100\n",
      "myojin_Q9_Z04700_Zw1300\n",
      "myojin_Q8_Z01400_Zw0\n",
      "myojin_Q8_Z01100_Zw300\n",
      "myojin_Q8_Z0900_Zw500\n",
      "myojin_Q8_Z0700_Zw700\n",
      "myojin_Q8_Z0500_Zw900\n",
      "myojin_Q8_Z0300_Zw1100\n",
      "myojin_Q8_Z0100_Zw1300\n",
      "myojin_Q9_Z01400_Zw0\n",
      "myojin_Q9_Z01100_Zw300\n",
      "myojin_Q9_Z0900_Zw500\n",
      "myojin_Q9_Z0700_Zw700\n",
      "myojin_Q9_Z0500_Zw900\n",
      "myojin_Q9_Z0300_Zw1100\n",
      "myojin_Q9_Z0100_Zw1300\n",
      "myojin_Q8_Z02200_Zw0\n",
      "myojin_Q8_Z01900_Zw300\n",
      "myojin_Q8_Z01700_Zw500\n",
      "myojin_Q8_Z01500_Zw700\n",
      "myojin_Q8_Z01300_Zw900\n",
      "myojin_Q8_Z01100_Zw1100\n",
      "myojin_Q8_Z0900_Zw1300\n",
      "myojin_Q9_Z02200_Zw0\n",
      "myojin_Q9_Z01900_Zw300\n",
      "myojin_Q9_Z01700_Zw500\n",
      "myojin_Q9_Z01500_Zw700\n",
      "myojin_Q9_Z01300_Zw900\n",
      "myojin_Q9_Z01100_Zw1100\n",
      "myojin_Q9_Z0900_Zw1300\n"
     ]
    },
    {
     "data": {
      "image/png": "[encoded data removed]",
      "text/plain": [
       "<Figure size 700x900 with 6 Axes>"
      ]
     },
     "metadata": {},
     "output_type": "display_data"
    }
   ],
   "source": [
    "# Produce regime contours for each sweep\n",
    "\n",
    "\n",
    "nr = len(Ztot)\n",
    "nc = len(logQ)\n",
    "\n",
    "fig,ax = plt.subplots(nr,nc,figsize=[7, 9],sharex=True,sharey=True)\n",
    "\n",
    "for zt in Ztot:\n",
    "    for q in logQ:\n",
    "        this_set = sweeps[(sweeps['Ztot']==zt) & (sweeps['logQ']==q)]\n",
    "        contours_exp = []\n",
    "        contours_int = []\n",
    "        for sweep in this_set['name']:\n",
    "            outcome_codes, plot_codes, P = po.process_outcome_codes(all_outcome_codes[sweep], simple_plot_codes, P, max_P=max_P)\n",
    "\n",
    "            print(sweep)\n"
   ]
  },
  {
   "cell_type": "code",
   "execution_count": null,
   "id": "e687e3af-9ecc-4fb5-afe0-5477130ab44d",
   "metadata": {
    "editable": true,
    "slideshow": {
     "slide_type": ""
    },
    "tags": []
   },
   "outputs": [],
   "source": [
    "# Make a contour plot for each sweep set\n",
    "#  -> 4-6 plots total, depending on our choices of Ztot"
   ]
  }
 ],
 "metadata": {
  "kernelspec": {
   "display_name": "Python [conda env:myojin_knoll]",
   "language": "python",
   "name": "conda-env-myojin_knoll-py"
  },
  "language_info": {
   "codemirror_mode": {
    "name": "ipython",
    "version": 3
   },
   "file_extension": ".py",
   "mimetype": "text/x-python",
   "name": "python",
   "nbconvert_exporter": "python",
   "pygments_lexer": "ipython3",
   "version": "3.11.10"
  }
 },
 "nbformat": 4,
 "nbformat_minor": 5
}

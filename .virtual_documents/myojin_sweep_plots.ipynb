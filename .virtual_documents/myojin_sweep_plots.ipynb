





from os.path import join

import numpy as np
import pandas as pd
from itertools import product, compress
import matplotlib.pyplot as plt
# import matplotlib.contour as mcon
# import matplotlib.colormaps as mpc

import myojin_python.mat_tools as mat
import myojin_python.process_conduit_outcomes as po
from myojin_python.config import DATA_DIR


# PARAMETER INPUT

dataDir   = DATA_DIR / 'refinedSweep/'
codesFile = 'outcomeCodeSummary.mat'

# % Test file
# % foi = '2024-04-26_myojin_Q8_Z0900_Zw500_357n_dP_21_n0_excess_17.mat';
foi = 'myojin_Q8_Z0900_Zw500';

max_P = 2e7 # Max overpressure
sigma = 2.0 # Gaussian filter size (pix)

# --> Sweep sets for which to make regime plots
logQ = [8., 9.]
Ztot = [1400.,2200.,6000.]

# Plot boundary contours only for explosive and intrusive PLOT codes
# keep_outcomes = ['invalidIntrusive','validFragPressBalance','validExplosive']
# outcome_cmaps = ['Oranges','Blues','Purples']
keep_outcomes = ['invalidIntrusive','validExplosive']
outcome_cmaps = ['Oranges','Blues']
# keep_codes = {
#     'intrusive': 0.,
#     'press_bal': 2.,
#     'explosive': 3.} 


# Pressure scale multiplier for plotting
Pscale = 1e-6

## ------------------------------------------------------------------------##



# --------  PULL DATA --------
matfile = join(dataDir,codesFile)

all_outcome_codes = mat.matfile_struct_to_dict(matfile, 'allOutcomeCodes')
simple_plot_codes = mat.matfile_struct_to_dict(matfile, 'simplePlotIndex')

n0 = all_outcome_codes['n0_excess']
P = all_outcome_codes['dP']

# --> Pull test codes
outcome_codes = all_outcome_codes[foi]
plot_codes = simple_plot_codes[foi]






# ------- PARSE SWEEP NAMES --------
#  - into a dataframe for processing/plotting control
sweep_names = [key for key in all_outcome_codes.keys() if 'myojin' in key]

# Initialize
sweeps = {'logQ': np.zeros(len(sweep_names)),
              'Z0'  : np.zeros(len(sweep_names)),
              'Zw'  : np.zeros(len(sweep_names)),
             }

for ii,foi in enumerate(sweep_names):
    chunks = foi.split('_')
    for chunk in chunks:
        if 'Q' in chunk:
            sweeps['logQ'][ii] = float(chunk.strip('Q'))
        elif 'Z0' in chunk:
            sweeps['Z0'][ii] = float(chunk.replace('Z0',''))
        elif 'Zw' in chunk:
            sweeps['Zw'][ii] = float(chunk.strip('Zw'))

sweeps['Ztot'] = sweeps['Zw'] + sweeps['Z0']
sweeps['name'] = sweep_names

sweeps = pd.DataFrame(data = sweeps).sort_values(['logQ','Ztot','Zw'],ignore_index=True)
# print(sweeps)

# -------- Produce regime contours for each sweep into the dataframe  -----------

# Get simplified outcome code table
ctable = po.get_outcome_code_table(display=False)
keep_codes = ctable.loc[keep_outcomes]['SimplifiedCode']


# Run list
contours = {name: [] for name in keep_outcomes}
code_set = []
for sweep in sweeps['name']:
    outcome_codes, plot_codes, P = po.process_outcome_codes(
        all_outcome_codes[sweep], 
        simple_plot_codes[sweep], 
        all_outcome_codes['dP'], 
        max_P=max_P)

    _, contours_xy, unique_codes = po.get_label_contours(
        plot_codes, all_outcome_codes['n0_excess'],
        P,
        sigma=sigma)
    
    # Get all unique plot codes (post-cleaning for contour plots)
    code_set += list(unique_codes)

    for name,code in zip(keep_outcomes,keep_codes):
        cont = list(compress(contours_xy,np.isin(unique_codes,code)))
        if cont: # Simplify if result was not empty
            cont = cont[0]
        else:
            cont = None
        contours[name].append(cont)

sweeps = sweeps.join(pd.DataFrame(contours))
code_set = set(code_set)

print(code_set)





# QC plots for each sweep

levels = sorted(np.array(list(set(sweeps['Zw']))))
nc = int(sweeps.shape[0]/len(levels))
nr = int(sweeps.shape[0]/nc)

# Build colormaps for each contour regime of interest
dl = np.diff(levels)[0]
cmaps={}
norms={}
for name,cmap in zip(keep_outcomes,outcome_cmaps):
    cmaps[cmap] = plt.get_cmap(cmap, lut=len(levels)+1)
    norms[cmap] = plt.Normalize(vmin=min(levels)-dl, vmax=max(levels))


fig,axes = plt.subplots(nr,nc,figsize=[8.5, 11],sharex=True,sharey=True)
mesh_cmap = plt.get_cmap('Greys',lut=len(code_set))
for ax,sweep,Zw in zip(axes.flatten(),sweeps['name'],sweeps['Zw']):
    _, plot_codes, P = po.process_outcome_codes(
    all_outcome_codes[sweep], 
    simple_plot_codes[sweep], 
    all_outcome_codes['dP'], 
    max_P=max_P)
    
    code_img = simple_plot_codes[sweep]
    CS = ax.pcolormesh(n0,P*Pscale,plot_codes, shading='auto',cmap=mesh_cmap)

    for name,code,cmap,norm in zip(keep_outcomes,keep_codes,cmaps,norms):
        contour = sweeps.loc[sweeps['name']==sweep,name]
        if contour is not None:
            contour = contour.to_numpy()[0]
            color = cmaps[cmap](norms[norm](Zw))
            ax.plot(contour[:,0], contour[:,1]*Pscale, color=color)


    # code_img = all_outcome_codes[sweep]
# CS = plt.pcolormesh(n0,P*Pscale,plot_codes, shading='auto', edgecolor = 'k', linewidth=0.1,cmap=mesh_cmap)

# faafo


# Get levels and colormaps for the regime boundary lines
levels = sorted(np.array(list(set(sweeps['Zw']))))
dl = np.diff(levels)[0]
cmaps={}
norms={}
for name,cmap in zip(keep_outcomes,outcome_cmaps):
    cmaps[cmap] = plt.get_cmap(cmap, lut=len(levels)+1)
    norms[cmap] = plt.Normalize(vmin=min(levels)-dl, vmax=max(levels))

nr = len(Ztot)
nc = len(logQ)

fig,axes = plt.subplots(nr,nc,figsize=[7, 9],sharex=True,sharey=True)

# Iterate over different combinations of logQ, Ztotal to produce the various plots
for ax,(q,zt) in zip(axes.transpose().flatten(), product(logQ,Ztot)):
    this_set = sweeps[(sweeps['Ztot']==zt) & (sweeps['logQ']==q)]

    # Make contour color map based on length of this_set

    # # Run list
    # contours = {name: [] for name in keep_outcomes}
    # csets    = {name: [] for name in keep_outcomes}
    # # contours = []
    # # contours_int = []
    # cset = {}
    # for sweep in this_set['name']:
    #     outcome_codes, plot_codes, P = po.process_outcome_codes(
    #         all_outcome_codes[sweep], 
    #         simple_plot_codes[sweep], 
    #         all_outcome_codes['dP'], 
    #         max_P=max_P)

    #     _, contours_xy, unique_codes = po.get_label_contours(
    #         plot_codes, all_outcome_codes['n0_excess'],
    #         P,
    #         sigma=sigma)

        # keepers = np.isin(unique_codes, keep_codes)
    for name,code,cmap,norm in zip(keep_outcomes,keep_codes,cmaps,norms):
            # cont = list(compress(contours_xy,np.isin(unique_codes,code)))
            # if cont: # Simplify if result was not empty
            #     cont = cont[0]
            # else:
            #     cont = None
            # contours[name].append(cont)

            

        for level,contour in zip(levels,contours[name]):
            if contour is not None:
                color = cmaps[cmap](norms[norm](level))
                ax.plot(contour[:,0], contour[:,1]/Pscale, color=color, label =f'{level:.0f}')
    ax.set_title(f'Z_total : {zt} m, log(Q): {q}')
fig.supxlabel('Excess exsolved gas mass fraction')
fig.supylabel('Chamber excess pressure (MPa)')


# Make a contour plot for each sweep set
#  -> 4-6 plots total, depending on our choices of Ztot




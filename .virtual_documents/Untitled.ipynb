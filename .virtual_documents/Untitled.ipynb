


from os.path import join

import numpy as np
import pandas as pd
import matplotlib.pyplot as plt

import myojin_python.mat_tools as mat
import myojin_python.process_conduit_outcomes as po
from myojin_python.config import DATA_DIR




# PARAMETER INPUT

dataDir   = DATA_DIR / 'refinedSweep/'
codesFile = 'outcomeCodeSummary.mat'

# % Test file
# % foi = '2024-04-26_myojin_Q8_Z0900_Zw500_357n_dP_21_n0_excess_17.mat';
foi = 'myojin_Q8_Z0900_Zw500';

max_P = 2e7 # Max overpressure
sigma = 2.0 # Gaussian filter size (pix)
## ------------------------------------------------------------------------##



# --------  PULL DATA --------
matfile = join(dataDir,codesFile)

all_outcome_codes = mat.matfile_struct_to_dict(matfile, 'allOutcomeCodes')
simple_plot_codes = mat.matfile_struct_to_dict(matfile, 'simplePlotIndex')

n0 = all_outcome_codes['n0_excess']
P = all_outcome_codes['dP']

# --> Pull test codes
outcome_codes = all_outcome_codes[foi]
plot_codes = simple_plot_codes[foi]

# --> Sweep sets for which to make regime plots
logQ = [8., 9.]
Ztot = [1400.,2200.,6000.]



# ------- PARSE SWEEP NAMES --------
#  - into a dataframe for processing/plotting control
sweep_names = [key for key in all_outcome_codes.keys() if 'myojin' in key]

# Initialize
sweeps = {'logQ': np.zeros(len(sweep_names)),
              'Z0'  : np.zeros(len(sweep_names)),
              'Zw'  : np.zeros(len(sweep_names)),
             }

for ii,foi in enumerate(sweep_names):
    chunks = foi.split('_')
    for chunk in chunks:
        if 'Q' in chunk:
            sweeps['logQ'][ii] = float(chunk.strip('Q'))
        elif 'Z0' in chunk:
            sweeps['Z0'][ii] = float(chunk.replace('Z0',''))
        elif 'Zw' in chunk:
            sweeps['Zw'][ii] = float(chunk.strip('Zw'))

sweeps['Ztot'] = sweep_sets['Zw'] + sweep_sets['Z0']
sweeps['name'] = sweep_names

sweeps = pd.DataFrame(data = sweeps).sort_values(['logQ','Ztot','Zw'],ignore_index=True)
# print(sweeps)


# Produce regime contours for each sweep



